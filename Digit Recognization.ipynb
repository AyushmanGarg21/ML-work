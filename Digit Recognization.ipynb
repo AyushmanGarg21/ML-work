{
 "cells": [
  {
   "cell_type": "code",
   "execution_count": 183,
   "metadata": {},
   "outputs": [],
   "source": [
    "import numpy as np \n",
    "import pandas as pd\n",
    "import matplotlib.pyplot as plt\n",
    "import tensorflow as tf\n",
    "from sklearn.datasets import load_digits\n",
    "from sklearn.model_selection import train_test_split\n",
    "from sklearn.preprocessing import StandardScaler\n",
    "from keras.models import Sequential\n",
    "from keras.layers import Dense\n",
    "from keras.activations import linear, relu, sigmoid"
   ]
  },
  {
   "cell_type": "code",
   "execution_count": 184,
   "metadata": {},
   "outputs": [],
   "source": [
    "digits =  load_digits()"
   ]
  },
  {
   "cell_type": "code",
   "execution_count": 185,
   "metadata": {},
   "outputs": [
    {
     "data": {
      "image/png": "[encoded data removed]",
      "text/plain": [
       "<Figure size 480x480 with 1 Axes>"
      ]
     },
     "metadata": {},
     "output_type": "display_data"
    }
   ],
   "source": [
    "plt.matshow(digits.images[4])\n",
    "plt.show()"
   ]
  },
  {
   "cell_type": "code",
   "execution_count": 186,
   "metadata": {},
   "outputs": [
    {
     "data": {
      "image/png": "[encoded data removed]",
      "text/plain": [
       "<Figure size 500x500 with 15 Axes>"
      ]
     },
     "metadata": {},
     "output_type": "display_data"
    }
   ],
   "source": [
    "images_and_labels=list(zip(digits.images,digits.target))\n",
    "plt.figure(figsize=(5,5))\n",
    "for index,(image,label) in enumerate(images_and_labels[:15]):\n",
    "    plt.subplot(3,5,index+1)\n",
    "    plt.axis('off')\n",
    "    plt.imshow(image,cmap=plt.cm.gray_r,interpolation='nearest')\n",
    "    plt.title('%i' % label)"
   ]
  },
  {
   "cell_type": "code",
   "execution_count": 187,
   "metadata": {},
   "outputs": [],
   "source": [
    "n=len(digits.images)\n",
    "x=digits.images.reshape((n,-1))\n",
    "y=digits.target"
   ]
  },
  {
   "cell_type": "code",
   "execution_count": 188,
   "metadata": {},
   "outputs": [],
   "source": [
    "X_train, X_test, y_train, y_test = train_test_split(x, y, test_size = 0.2, random_state = 0)"
   ]
  },
  {
   "cell_type": "code",
   "execution_count": 189,
   "metadata": {},
   "outputs": [],
   "source": [
    "sc = StandardScaler()\n",
    "X_train = sc.fit_transform(X_train)\n",
    "X_test = sc.transform(X_test)"
   ]
  },
  {
   "cell_type": "code",
   "execution_count": 190,
   "metadata": {},
   "outputs": [],
   "source": [
    "y_train=y_train.reshape(y_train.shape[0],1)\n",
    "y_test=y_test.reshape(y_test.shape[0],1)"
   ]
  },
  {
   "cell_type": "code",
   "execution_count": 191,
   "metadata": {},
   "outputs": [],
   "source": [
    "def my_softmax(z):\n",
    "    ez = np.exp(z)\n",
    "    a = ez/np.sum(ez)\n",
    "    return a"
   ]
  },
  {
   "cell_type": "code",
   "execution_count": 192,
   "metadata": {},
   "outputs": [
    {
     "name": "stdout",
     "output_type": "stream",
     "text": [
      "(1437, 64)\n",
      "(1437, 1)\n"
     ]
    }
   ],
   "source": [
    "print(X_train.shape)\n",
    "print(y_train.shape)"
   ]
  },
  {
   "cell_type": "code",
   "execution_count": 193,
   "metadata": {},
   "outputs": [],
   "source": [
    "tf.random.set_seed(1234) # for consistent results\n",
    "model = Sequential(\n",
    "    [                \n",
    "        tf.keras.layers.InputLayer((64,)),\n",
    "        tf.keras.layers.Dense(25, activation=\"relu\", name=\"L1\"),\n",
    "        tf.keras.layers.Dense(15, activation=\"relu\", name=\"L2\"),\n",
    "        tf.keras.layers.Dense(10, activation=\"linear\", name=\"L3\")\n",
    "    ], name = \"my_model\" \n",
    ")"
   ]
  },
  {
   "cell_type": "code",
   "execution_count": 194,
   "metadata": {},
   "outputs": [
    {
     "name": "stdout",
     "output_type": "stream",
     "text": [
      "Model: \"my_model\"\n",
      "_________________________________________________________________\n",
      " Layer (type)                Output Shape              Param #   \n",
      "=================================================================\n",
      " L1 (Dense)                  (None, 25)                1625      \n",
      "                                                                 \n",
      " L2 (Dense)                  (None, 15)                390       \n",
      "                                                                 \n",
      " L3 (Dense)                  (None, 10)                160       \n",
      "                                                                 \n",
      "=================================================================\n",
      "Total params: 2,175\n",
      "Trainable params: 2,175\n",
      "Non-trainable params: 0\n",
      "_________________________________________________________________\n"
     ]
    }
   ],
   "source": [
    "model.summary()"
   ]
  },
  {
   "cell_type": "code",
   "execution_count": 195,
   "metadata": {},
   "outputs": [],
   "source": [
    "[layer1, layer2, layer3] = model.layers"
   ]
  },
  {
   "cell_type": "code",
   "execution_count": 196,
   "metadata": {},
   "outputs": [
    {
     "name": "stdout",
     "output_type": "stream",
     "text": [
      "Epoch 1/40\n",
      "45/45 [==============================] - 1s 2ms/step - loss: 2.1051\n",
      "Epoch 2/40\n",
      "45/45 [==============================] - 0s 2ms/step - loss: 1.6451\n",
      "Epoch 3/40\n",
      "45/45 [==============================] - 0s 2ms/step - loss: 1.1913\n",
      "Epoch 4/40\n",
      "45/45 [==============================] - 0s 2ms/step - loss: 0.8131\n",
      "Epoch 5/40\n",
      "45/45 [==============================] - 0s 2ms/step - loss: 0.5617\n",
      "Epoch 6/40\n",
      "45/45 [==============================] - 0s 2ms/step - loss: 0.4155\n",
      "Epoch 7/40\n",
      "45/45 [==============================] - 0s 3ms/step - loss: 0.3289\n",
      "Epoch 8/40\n",
      "45/45 [==============================] - 0s 4ms/step - loss: 0.2716\n",
      "Epoch 9/40\n",
      "45/45 [==============================] - 0s 4ms/step - loss: 0.2287\n",
      "Epoch 10/40\n",
      "45/45 [==============================] - 0s 4ms/step - loss: 0.1931\n",
      "Epoch 11/40\n",
      "45/45 [==============================] - 0s 5ms/step - loss: 0.1661\n",
      "Epoch 12/40\n",
      "45/45 [==============================] - 0s 4ms/step - loss: 0.1428\n",
      "Epoch 13/40\n",
      "45/45 [==============================] - 0s 5ms/step - loss: 0.1243\n",
      "Epoch 14/40\n",
      "45/45 [==============================] - 0s 4ms/step - loss: 0.1086\n",
      "Epoch 15/40\n",
      "45/45 [==============================] - 0s 3ms/step - loss: 0.0950\n",
      "Epoch 16/40\n",
      "45/45 [==============================] - 0s 2ms/step - loss: 0.0839\n",
      "Epoch 17/40\n",
      "45/45 [==============================] - 0s 2ms/step - loss: 0.0748\n",
      "Epoch 18/40\n",
      "45/45 [==============================] - 0s 2ms/step - loss: 0.0656\n",
      "Epoch 19/40\n",
      "45/45 [==============================] - 0s 2ms/step - loss: 0.0580\n",
      "Epoch 20/40\n",
      "45/45 [==============================] - 0s 1ms/step - loss: 0.0513\n",
      "Epoch 21/40\n",
      "45/45 [==============================] - 0s 1ms/step - loss: 0.0459\n",
      "Epoch 22/40\n",
      "45/45 [==============================] - 0s 1ms/step - loss: 0.0411\n",
      "Epoch 23/40\n",
      "45/45 [==============================] - 0s 1ms/step - loss: 0.0370\n",
      "Epoch 24/40\n",
      "45/45 [==============================] - 0s 3ms/step - loss: 0.0333\n",
      "Epoch 25/40\n",
      "45/45 [==============================] - 0s 4ms/step - loss: 0.0299\n",
      "Epoch 26/40\n",
      "45/45 [==============================] - 0s 6ms/step - loss: 0.0271\n",
      "Epoch 27/40\n",
      "45/45 [==============================] - 0s 8ms/step - loss: 0.0246\n",
      "Epoch 28/40\n",
      "45/45 [==============================] - 1s 19ms/step - loss: 0.0225\n",
      "Epoch 29/40\n",
      "45/45 [==============================] - 0s 5ms/step - loss: 0.0205\n",
      "Epoch 30/40\n",
      "45/45 [==============================] - 0s 3ms/step - loss: 0.0186\n",
      "Epoch 31/40\n",
      "45/45 [==============================] - 0s 6ms/step - loss: 0.0171\n",
      "Epoch 32/40\n",
      "45/45 [==============================] - 0s 5ms/step - loss: 0.0159\n",
      "Epoch 33/40\n",
      "45/45 [==============================] - 0s 4ms/step - loss: 0.0145\n",
      "Epoch 34/40\n",
      "45/45 [==============================] - 0s 3ms/step - loss: 0.0135\n",
      "Epoch 35/40\n",
      "45/45 [==============================] - 0s 4ms/step - loss: 0.0125\n",
      "Epoch 36/40\n",
      "45/45 [==============================] - 0s 4ms/step - loss: 0.0116\n",
      "Epoch 37/40\n",
      "45/45 [==============================] - 0s 3ms/step - loss: 0.0107\n",
      "Epoch 38/40\n",
      "45/45 [==============================] - 0s 3ms/step - loss: 0.0100\n",
      "Epoch 39/40\n",
      "45/45 [==============================] - 0s 3ms/step - loss: 0.0092\n",
      "Epoch 40/40\n",
      "45/45 [==============================] - 0s 4ms/step - loss: 0.0087\n"
     ]
    }
   ],
   "source": [
    "model.compile(\n",
    "    loss=tf.keras.losses.SparseCategoricalCrossentropy(from_logits=True),\n",
    "    optimizer=tf.keras.optimizers.Adam(learning_rate=0.001),\n",
    ")\n",
    "\n",
    "history = model.fit(\n",
    "    X_train,y_train,\n",
    "    epochs=40\n",
    ")"
   ]
  },
  {
   "cell_type": "code",
   "execution_count": 197,
   "metadata": {},
   "outputs": [
    {
     "name": "stdout",
     "output_type": "stream",
     "text": [
      "1/1 [==============================] - 0s 129ms/step\n",
      "1/1 [==============================] - 0s 58ms/step\n",
      "1/1 [==============================] - 0s 49ms/step\n",
      "1/1 [==============================] - 0s 48ms/step\n",
      "1/1 [==============================] - 0s 67ms/step\n",
      "1/1 [==============================] - 0s 30ms/step\n",
      "1/1 [==============================] - 0s 34ms/step\n",
      "1/1 [==============================] - 0s 30ms/step\n",
      "1/1 [==============================] - 0s 32ms/step\n",
      "1/1 [==============================] - 0s 33ms/step\n",
      "1/1 [==============================] - 0s 35ms/step\n",
      "1/1 [==============================] - 0s 32ms/step\n",
      "1/1 [==============================] - 0s 28ms/step\n",
      "1/1 [==============================] - 0s 24ms/step\n",
      "1/1 [==============================] - 0s 29ms/step\n",
      "1/1 [==============================] - 0s 32ms/step\n",
      "1/1 [==============================] - 0s 36ms/step\n",
      "1/1 [==============================] - 0s 23ms/step\n",
      "1/1 [==============================] - 0s 36ms/step\n",
      "1/1 [==============================] - 0s 27ms/step\n",
      "1/1 [==============================] - 0s 38ms/step\n",
      "1/1 [==============================] - 0s 44ms/step\n",
      "1/1 [==============================] - 0s 60ms/step\n",
      "1/1 [==============================] - 0s 82ms/step\n",
      "1/1 [==============================] - 0s 91ms/step\n"
     ]
    },
    {
     "data": {
      "image/png": "[encoded data removed]",
      "text/plain": [
       "<Figure size 500x700 with 25 Axes>"
      ]
     },
     "metadata": {},
     "output_type": "display_data"
    }
   ],
   "source": [
    "\n",
    "images_and_labels= []\n",
    "#list(zip(digits.images,digits.target))\n",
    "num,num2 = X_test.shape\n",
    "for i in range(25):\n",
    "    r_i = np.random.randint(0,num)\n",
    "    m = X_test[r_i]\n",
    "    n = y_test[r_i]\n",
    "    prediction = model.predict(m.reshape(1,64))\n",
    "    prediction_p = tf.nn.softmax(prediction)\n",
    "    yhat = np.argmax(prediction_p)\n",
    "    images_and_labels.append((m.reshape(8,8),n,yhat))\n",
    "\n",
    "\n",
    "plt.figure(figsize=(5,7))\n",
    "for index,(image,predct,actu) in enumerate(images_and_labels[:25]):\n",
    "    plt.subplot(5,5,index+1)\n",
    "    plt.axis('off')\n",
    "    plt.imshow(image,cmap=plt.cm.gray_r,interpolation='nearest')\n",
    "    ttl = \"A = %i, P = %i\" % (actu,predct)\n",
    "    plt.title(ttl , fontsize=7)"
   ]
  }
 ],
 "metadata": {
  "kernelspec": {
   "display_name": "Python 3",
   "language": "python",
   "name": "python3"
  },
  "language_info": {
   "codemirror_mode": {
    "name": "ipython",
    "version": 3
   },
   "file_extension": ".py",
   "mimetype": "text/x-python",
   "name": "python",
   "nbconvert_exporter": "python",
   "pygments_lexer": "ipython3",
   "version": "3.9.13"
  },
  "orig_nbformat": 4
 },
 "nbformat": 4,
 "nbformat_minor": 2
}
